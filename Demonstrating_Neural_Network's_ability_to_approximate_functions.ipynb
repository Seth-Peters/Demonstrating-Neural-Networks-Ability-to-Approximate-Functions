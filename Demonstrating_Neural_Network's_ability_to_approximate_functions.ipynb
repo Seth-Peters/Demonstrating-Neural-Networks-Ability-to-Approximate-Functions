{
  "nbformat": 4,
  "nbformat_minor": 0,
  "metadata": {
    "colab": {
      "name": "Demonstrating Neural Network's ability to approximate functions.ipynb",
      "provenance": []
    },
    "kernelspec": {
      "name": "python3",
      "display_name": "Python 3"
    }
  },
  "cells": [
    {
      "cell_type": "markdown",
      "metadata": {
        "id": "3hsP-cWbhbDq",
        "colab_type": "text"
      },
      "source": [
        "# Demonstrating a Neural Network's ability to approximate functions"
      ]
    },
    {
      "cell_type": "code",
      "metadata": {
        "id": "TABSR8ouFOPk",
        "colab_type": "code",
        "colab": {}
      },
      "source": [
        "import numpy as np\n",
        "import pandas as pd\n",
        "import math\n",
        "from matplotlib import pyplot as plt\n",
        "from keras.models import Sequential\n",
        "from keras.layers import Activation, Dropout, Flatten, Dense\n",
        "import tensorflow as tf\n",
        "from sklearn.model_selection import train_test_split\n",
        "from sklearn.metrics import mean_squared_error\n",
        "from keras import optimizers"
      ],
      "execution_count": 0,
      "outputs": []
    },
    {
      "cell_type": "markdown",
      "metadata": {
        "id": "xilYqxKPhg1a",
        "colab_type": "text"
      },
      "source": [
        "I want to approximate the function: \n",
        "\n",
        "$y = sin(x)*cos(sin(x)),  0< x < 2\\pi$"
      ]
    },
    {
      "cell_type": "code",
      "metadata": {
        "id": "e5qpNDNFFXXn",
        "colab_type": "code",
        "colab": {}
      },
      "source": [
        "## In order to approximate a function, we need to give our Neural Network data,\n",
        "## just like any other problem. To do this, we need to feed a 2 dimensional array\n",
        "## to the network as input values (as this is what our network needs to function).\n",
        "## One columns of only 1s, and the other random \n",
        "## x values from 0 - 2pi. Our target data becomes the function we want to\n",
        "## approximate evalued at those random x values from 0-2pi. \n",
        "\n",
        "## Let's set up the data:\n",
        "\n",
        "a = 0\n",
        "b = 2*math.pi\n",
        "n = 10000\n",
        "X = np.array([])\n",
        "c = 3\n",
        "y = np.array([])\n",
        "\n",
        "## We introduce some random noise into the data to show the network can\n",
        "## still learn the function even with noise. \n",
        "\n",
        "error = c*np.random.normal(0,1,1)[0]\n",
        "\n",
        "for i in range(n):\n",
        "\n",
        "  sample = (b - a) * np.random.random_sample() + a \n",
        "  add1 = np.append(np.ones(1),sample)\n",
        "  X = np.append(X,add1)\n",
        "\n",
        "X.shape = (n,2)\n",
        "\n",
        "for i in X[:,1]:\n",
        "\n",
        "  z = math.sin(i)*math.cos(math.sin(i) + error)\n",
        "  y = np.append(y,z)  "
      ],
      "execution_count": 0,
      "outputs": []
    },
    {
      "cell_type": "code",
      "metadata": {
        "id": "1C3Aa-xdT95Z",
        "colab_type": "code",
        "colab": {}
      },
      "source": [
        "## Split data into training and testing sets\n",
        "\n",
        "X_train, X_test, y_train, y_test = train_test_split(X, y, test_size=0.1)"
      ],
      "execution_count": 0,
      "outputs": []
    },
    {
      "cell_type": "markdown",
      "metadata": {
        "id": "UAAgLGrVlEwO",
        "colab_type": "text"
      },
      "source": [
        "Here I visualize the data to show which function I am interested in approximating. This curve may look a bit different each run due to the random noise I have added, however the network can still learn each of the curves produced. "
      ]
    },
    {
      "cell_type": "code",
      "metadata": {
        "id": "Khi_7WHoTdrx",
        "colab_type": "code",
        "outputId": "ed0f57c0-b27c-4f0d-d588-4b2e60683da6",
        "colab": {
          "base_uri": "https://localhost:8080/",
          "height": 282
        }
      },
      "source": [
        "## Visualize the function I want to approximate keeping in mind that\n",
        "## there is some random noise included\n",
        "\n",
        "plt.scatter(X[:,1],y,color = 'orange')"
      ],
      "execution_count": 44,
      "outputs": [
        {
          "output_type": "execute_result",
          "data": {
            "text/plain": [
              "<matplotlib.collections.PathCollection at 0x7f8482720ba8>"
            ]
          },
          "metadata": {
            "tags": []
          },
          "execution_count": 44
        },
        {
          "output_type": "display_data",
          "data": {
            "image/png": "[encoded data removed]",
            "text/plain": [
              "<Figure size 432x288 with 1 Axes>"
            ]
          },
          "metadata": {
            "tags": []
          }
        }
      ]
    },
    {
      "cell_type": "markdown",
      "metadata": {
        "id": "otsvKxcNldBm",
        "colab_type": "text"
      },
      "source": [
        "I now build a Radial Basis Function by adding layers to our neural network and setting the activation functions to be sigmoids. Then fit the data using our training data and predict using the testing data."
      ]
    },
    {
      "cell_type": "code",
      "metadata": {
        "id": "cqBdLCXBIvVP",
        "colab_type": "code",
        "colab": {
          "base_uri": "https://localhost:8080/",
          "height": 1000
        },
        "outputId": "3c37bdf1-5798-4a57-ba7f-dc10b47c6fcd"
      },
      "source": [
        "## Build the Radial Basis Function Neural Network to approximate our function\n",
        "\n",
        "model = Sequential()\n",
        "model.add(Dense(12, input_dim=2, activation='relu'))\n",
        "model.add(Dropout(rate=0.2))\n",
        "model.add(Dense(12, activation='tanh'))\n",
        "model.add(Dense(8, activation='tanh'))\n",
        "model.add(Dense(1, activation='tanh'))\n",
        "\n",
        "Adadelta = optimizers.Adadelta(lr=1)\n",
        "\n",
        "model.compile(loss='mse', optimizer=Adadelta)\n",
        "\n",
        "model.fit(X_train,y_train,epochs=65)\n",
        "\n",
        "predictions = model.predict(X_test)"
      ],
      "execution_count": 45,
      "outputs": [
        {
          "output_type": "stream",
          "text": [
            "Epoch 1/65\n",
            "9000/9000 [==============================] - 1s 129us/step - loss: 0.0979\n",
            "Epoch 2/65\n",
            "9000/9000 [==============================] - 0s 43us/step - loss: 0.0689\n",
            "Epoch 3/65\n",
            "9000/9000 [==============================] - 0s 45us/step - loss: 0.0598\n",
            "Epoch 4/65\n",
            "9000/9000 [==============================] - 0s 43us/step - loss: 0.0543\n",
            "Epoch 5/65\n",
            "9000/9000 [==============================] - 0s 43us/step - loss: 0.0509\n",
            "Epoch 6/65\n",
            "9000/9000 [==============================] - 0s 42us/step - loss: 0.0487\n",
            "Epoch 7/65\n",
            "9000/9000 [==============================] - 0s 42us/step - loss: 0.0462\n",
            "Epoch 8/65\n",
            "9000/9000 [==============================] - 0s 44us/step - loss: 0.0419\n",
            "Epoch 9/65\n",
            "9000/9000 [==============================] - 0s 44us/step - loss: 0.0364\n",
            "Epoch 10/65\n",
            "9000/9000 [==============================] - 0s 44us/step - loss: 0.0321\n",
            "Epoch 11/65\n",
            "9000/9000 [==============================] - 0s 44us/step - loss: 0.0288\n",
            "Epoch 12/65\n",
            "9000/9000 [==============================] - 0s 47us/step - loss: 0.0262\n",
            "Epoch 13/65\n",
            "9000/9000 [==============================] - 0s 44us/step - loss: 0.0242\n",
            "Epoch 14/65\n",
            "9000/9000 [==============================] - 0s 46us/step - loss: 0.0217\n",
            "Epoch 15/65\n",
            "9000/9000 [==============================] - 0s 44us/step - loss: 0.0191\n",
            "Epoch 16/65\n",
            "9000/9000 [==============================] - 0s 44us/step - loss: 0.0190\n",
            "Epoch 17/65\n",
            "9000/9000 [==============================] - 0s 43us/step - loss: 0.0181\n",
            "Epoch 18/65\n",
            "9000/9000 [==============================] - 0s 43us/step - loss: 0.0181\n",
            "Epoch 19/65\n",
            "9000/9000 [==============================] - 0s 46us/step - loss: 0.0175\n",
            "Epoch 20/65\n",
            "9000/9000 [==============================] - 0s 42us/step - loss: 0.0163\n",
            "Epoch 21/65\n",
            "9000/9000 [==============================] - 0s 45us/step - loss: 0.0157\n",
            "Epoch 22/65\n",
            "9000/9000 [==============================] - 0s 44us/step - loss: 0.0156\n",
            "Epoch 23/65\n",
            "9000/9000 [==============================] - 0s 46us/step - loss: 0.0150\n",
            "Epoch 24/65\n",
            "9000/9000 [==============================] - 0s 46us/step - loss: 0.0143\n",
            "Epoch 25/65\n",
            "9000/9000 [==============================] - 0s 44us/step - loss: 0.0141\n",
            "Epoch 26/65\n",
            "9000/9000 [==============================] - 0s 45us/step - loss: 0.0139\n",
            "Epoch 27/65\n",
            "9000/9000 [==============================] - 0s 44us/step - loss: 0.0135\n",
            "Epoch 28/65\n",
            "9000/9000 [==============================] - 0s 44us/step - loss: 0.0131\n",
            "Epoch 29/65\n",
            "9000/9000 [==============================] - 0s 44us/step - loss: 0.0127\n",
            "Epoch 30/65\n",
            "9000/9000 [==============================] - 0s 45us/step - loss: 0.0121\n",
            "Epoch 31/65\n",
            "9000/9000 [==============================] - 0s 45us/step - loss: 0.0115\n",
            "Epoch 32/65\n",
            "9000/9000 [==============================] - 0s 44us/step - loss: 0.0107\n",
            "Epoch 33/65\n",
            "9000/9000 [==============================] - 0s 44us/step - loss: 0.0106\n",
            "Epoch 34/65\n",
            "9000/9000 [==============================] - 0s 44us/step - loss: 0.0097\n",
            "Epoch 35/65\n",
            "9000/9000 [==============================] - 0s 42us/step - loss: 0.0096\n",
            "Epoch 36/65\n",
            "9000/9000 [==============================] - 0s 41us/step - loss: 0.0090\n",
            "Epoch 37/65\n",
            "9000/9000 [==============================] - 0s 43us/step - loss: 0.0088\n",
            "Epoch 38/65\n",
            "9000/9000 [==============================] - 0s 43us/step - loss: 0.0082\n",
            "Epoch 39/65\n",
            "9000/9000 [==============================] - 0s 44us/step - loss: 0.0083\n",
            "Epoch 40/65\n",
            "9000/9000 [==============================] - 0s 43us/step - loss: 0.0077\n",
            "Epoch 41/65\n",
            "9000/9000 [==============================] - 0s 42us/step - loss: 0.0076\n",
            "Epoch 42/65\n",
            "9000/9000 [==============================] - 0s 43us/step - loss: 0.0084\n",
            "Epoch 43/65\n",
            "9000/9000 [==============================] - 0s 42us/step - loss: 0.0077\n",
            "Epoch 44/65\n",
            "9000/9000 [==============================] - 0s 42us/step - loss: 0.0077\n",
            "Epoch 45/65\n",
            "9000/9000 [==============================] - 0s 42us/step - loss: 0.0073\n",
            "Epoch 46/65\n",
            "9000/9000 [==============================] - 0s 44us/step - loss: 0.0076\n",
            "Epoch 47/65\n",
            "9000/9000 [==============================] - 0s 44us/step - loss: 0.0065\n",
            "Epoch 48/65\n",
            "9000/9000 [==============================] - 0s 43us/step - loss: 0.0073\n",
            "Epoch 49/65\n",
            "9000/9000 [==============================] - 0s 43us/step - loss: 0.0062\n",
            "Epoch 50/65\n",
            "9000/9000 [==============================] - 0s 42us/step - loss: 0.0063\n",
            "Epoch 51/65\n",
            "9000/9000 [==============================] - 0s 42us/step - loss: 0.0066\n",
            "Epoch 52/65\n",
            "9000/9000 [==============================] - 0s 42us/step - loss: 0.0061\n",
            "Epoch 53/65\n",
            "9000/9000 [==============================] - 0s 42us/step - loss: 0.0063\n",
            "Epoch 54/65\n",
            "9000/9000 [==============================] - 0s 41us/step - loss: 0.0061\n",
            "Epoch 55/65\n",
            "9000/9000 [==============================] - 0s 42us/step - loss: 0.0060\n",
            "Epoch 56/65\n",
            "9000/9000 [==============================] - 0s 42us/step - loss: 0.0059\n",
            "Epoch 57/65\n",
            "9000/9000 [==============================] - 0s 43us/step - loss: 0.0062\n",
            "Epoch 58/65\n",
            "9000/9000 [==============================] - 0s 42us/step - loss: 0.0065\n",
            "Epoch 59/65\n",
            "9000/9000 [==============================] - 0s 41us/step - loss: 0.0057\n",
            "Epoch 60/65\n",
            "9000/9000 [==============================] - 0s 41us/step - loss: 0.0055\n",
            "Epoch 61/65\n",
            "9000/9000 [==============================] - 0s 42us/step - loss: 0.0057\n",
            "Epoch 62/65\n",
            "9000/9000 [==============================] - 0s 43us/step - loss: 0.0055\n",
            "Epoch 63/65\n",
            "9000/9000 [==============================] - 0s 42us/step - loss: 0.0054\n",
            "Epoch 64/65\n",
            "9000/9000 [==============================] - 0s 41us/step - loss: 0.0051\n",
            "Epoch 65/65\n",
            "9000/9000 [==============================] - 0s 42us/step - loss: 0.0052\n"
          ],
          "name": "stdout"
        }
      ]
    },
    {
      "cell_type": "code",
      "metadata": {
        "id": "l9fNSg_7k6Vw",
        "colab_type": "code",
        "colab": {
          "base_uri": "https://localhost:8080/",
          "height": 34
        },
        "outputId": "71ed53e6-9b7e-4c39-d34c-44f62640bc22"
      },
      "source": [
        "## Here we can calculate the Mean Squared Error and Root\n",
        "## Mean Squared Error to better understand how our model is\n",
        "## performing\n",
        "\n",
        "## Low Root Mean Squared Error indicates the model is a good\n",
        "## predictor \n",
        "\n",
        "MSE = mean_squared_error(y_test,predictions)\n",
        "\n",
        "print(\"Root Mean Squared Error = \", math.sqrt(MSE))"
      ],
      "execution_count": 46,
      "outputs": [
        {
          "output_type": "stream",
          "text": [
            "Root Mean Squared Error =  0.1537358762284994\n"
          ],
          "name": "stdout"
        }
      ]
    },
    {
      "cell_type": "code",
      "metadata": {
        "id": "jPwXpG8tmmaC",
        "colab_type": "code",
        "colab": {
          "base_uri": "https://localhost:8080/",
          "height": 284
        },
        "outputId": "50b71761-cebe-4835-f0ba-858fcf243dd3"
      },
      "source": [
        "## Visualization of the model's performance\n",
        "\n",
        "plt.scatter(X_test[:,1],predictions,label = \"Approximated Function\")\n",
        "plt.scatter(X[:,1],y, label= \"Actual Function\")\n",
        "plt.legend()"
      ],
      "execution_count": 47,
      "outputs": [
        {
          "output_type": "execute_result",
          "data": {
            "text/plain": [
              "<matplotlib.legend.Legend at 0x7f8482500f60>"
            ]
          },
          "metadata": {
            "tags": []
          },
          "execution_count": 47
        },
        {
          "output_type": "display_data",
          "data": {
            "image/png": "[encoded data removed]",
            "text/plain": [
              "<Figure size 432x288 with 1 Axes>"
            ]
          },
          "metadata": {
            "tags": []
          }
        }
      ]
    }
  ]
}